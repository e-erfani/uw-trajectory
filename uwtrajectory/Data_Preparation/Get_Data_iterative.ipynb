{
 "cells": [
  {
   "cell_type": "markdown",
   "metadata": {},
   "source": [
    "# Downloading data for multiple years and months using iterations\n",
    "### Created by Ehsan Erfani (2022):\n",
    "#### Notes: \n",
    "- This code is an example. You need to change this code based on your data\n",
    "- First, register with different data providers and follow their instructions\n",
    "- It might be easier to use the provided python codes to automate the process of downloading. "
   ]
  },
  {
   "cell_type": "code",
   "execution_count": 1,
   "metadata": {},
   "outputs": [],
   "source": [
    "import os\n",
    "import numpy as np"
   ]
  },
  {
   "cell_type": "markdown",
   "metadata": {},
   "source": [
    "## Parameters"
   ]
  },
  {
   "cell_type": "code",
   "execution_count": 2,
   "metadata": {},
   "outputs": [],
   "source": [
    "## Specify the time range that data is available\n",
    "years  = np.arange(2018,2022) # 2018 to 2021\n",
    "months = np.arange(6,10)       # JJAS\n",
    "days   = [30, 31, 31]         # number of days in JJAS\n",
    "\n",
    "## Specify the directories of your own data:\n",
    "merra_dir = '/home/disk/eos3/erfani/Data/NEP/MERRA/3h/more_vertical/'\n",
    "ssmi_dir  = '/home/disk/eos3/erfani/Data/NEP/ssmi/'\n",
    "amsr_dir  = '/home/disk/eos3/erfani/Data/NEP/amsr/'\n",
    "ceres_dir = '/home/disk/eos3/erfani/Data/NEP/ceres/'\n",
    "\n",
    "## MERRA2 txt files containing the names of data files:\n",
    "merra_files = ['subset_M2I3NVAER_5.12.4_20221014_203440.txt']\n",
    "\n",
    "## CERES files:\n",
    "ceres_files = ['https://ceres-tool.larc.nasa.gov/ord-tool/data1//CERES_2022-10-15:24726/dir1/CERES_SYN1deg-1H_Terra-Aqua-MODIS_Ed4.1_Subset_20210825-20210831.nc']"
   ]
  },
  {
   "cell_type": "markdown",
   "metadata": {},
   "source": [
    "## ERA5 Surface"
   ]
  },
  {
   "cell_type": "code",
   "execution_count": null,
   "metadata": {},
   "outputs": [],
   "source": [
    "for year in years:\n",
    "    for mm in range(len(months)):\n",
    "        for dd in range(1, days[mm]+1):\n",
    "            cmd2     = 'nohup ipython Direct_Download_Surface.py ' + str(year) + ' ' + str(months[mm]) + ' ' + str(dd) + '  &'\n",
    "            cmd_run2 = os.popen(cmd2)\n",
    "            data_get = cmd_run2.read()         "
   ]
  },
  {
   "cell_type": "markdown",
   "metadata": {},
   "source": [
    "## ERA5 Pressure"
   ]
  },
  {
   "cell_type": "code",
   "execution_count": null,
   "metadata": {},
   "outputs": [],
   "source": [
    "for year in years:\n",
    "    for mm in range(len(months)):\n",
    "        for dd in range(1, days[mm]+1):\n",
    "            cmd2     = 'nohup ipython Direct_Download_Pressure.py ' + str(year) + ' ' + str(months[mm]) + ' ' + str(dd) + '  &'\n",
    "            cmd_run2 = os.popen(cmd2)\n",
    "            data_get = cmd_run2.read()"
   ]
  },
  {
   "cell_type": "markdown",
   "metadata": {},
   "source": [
    "## MERRA2"
   ]
  },
  {
   "cell_type": "code",
   "execution_count": 22,
   "metadata": {},
   "outputs": [],
   "source": [
    "os.chdir(merra_dir)\n",
    "for file in merra_files:\n",
    "    cmd2     = 'wget --load-cookies ~/.urs_cookies --save-cookies ~/.urs_cookies --auth-no-challenge=on '\\\n",
    "                + '--keep-session-cookies --content-disposition -i ' + file + ' &'        \n",
    "cmd_run2 = os.popen(cmd2)\n",
    "data_get = cmd_run2.read()"
   ]
  },
  {
   "cell_type": "markdown",
   "metadata": {},
   "source": [
    "## AMSR"
   ]
  },
  {
   "cell_type": "code",
   "execution_count": 18,
   "metadata": {},
   "outputs": [],
   "source": [
    "os.chdir(amsr_dir)\n",
    "for year in years:\n",
    "    for mm in range(len(months)):\n",
    "        cmd2     = 'wget -r --no-parent --reject \"index.html*\" https://data.remss.com/amsr2/bmaps_v08/y'\\\n",
    "                   + str(year) + '/m' + f\"{months[mm]:02d}\" + '/'\n",
    "        #print(cm2)\n",
    "        cmd_run2 = os.popen(cmd2)\n",
    "        data_get = cmd_run2.read()"
   ]
  },
  {
   "cell_type": "markdown",
   "metadata": {},
   "source": [
    "## SSMI"
   ]
  },
  {
   "cell_type": "code",
   "execution_count": 3,
   "metadata": {},
   "outputs": [],
   "source": [
    "## f16\n",
    "\n",
    "os.chdir(ssmi_dir)\n",
    "for year in years:\n",
    "    for mm in range(len(months)):\n",
    "        cmd2     = 'wget -r --no-parent --reject \"index.html*\" https://data.remss.com/ssmi/f16/bmaps_v07/y'\\\n",
    "                   + str(year) + '/m' + f\"{months[mm]:02d}\" + '/'        \n",
    "        cmd_run2 = os.popen(cmd2)\n",
    "        data_get = cmd_run2.read()"
   ]
  },
  {
   "cell_type": "code",
   "execution_count": 4,
   "metadata": {},
   "outputs": [],
   "source": [
    "## f17\n",
    "\n",
    "os.chdir(ssmi_dir)\n",
    "for year in years:\n",
    "    for mm in range(len(months)):\n",
    "        cmd2     = 'wget -r --no-parent --reject \"index.html*\" https://data.remss.com/ssmi/f17/bmaps_v07/y'\\\n",
    "                   + str(year) + '/m' + f\"{months[mm]:02d}\" + '/'        \n",
    "        cmd_run2 = os.popen(cmd2)\n",
    "        data_get = cmd_run2.read()"
   ]
  },
  {
   "cell_type": "code",
   "execution_count": 5,
   "metadata": {},
   "outputs": [],
   "source": [
    "## f18\n",
    "\n",
    "os.chdir(ssmi_dir)\n",
    "for year in years:\n",
    "    for mm in range(len(months)):\n",
    "        cmd2     = 'wget -r --no-parent --reject \"index.html*\" https://data.remss.com/ssmi/f18/bmaps_v08/y'\\\n",
    "                   + str(year) + '/m' + f\"{months[mm]:02d}\" + '/'        \n",
    "        cmd_run2 = os.popen(cmd2)\n",
    "        data_get = cmd_run2.read()"
   ]
  },
  {
   "cell_type": "markdown",
   "metadata": {},
   "source": [
    "## CERES"
   ]
  },
  {
   "cell_type": "code",
   "execution_count": 31,
   "metadata": {},
   "outputs": [],
   "source": [
    "os.chdir(ceres_dir)\n",
    "for file in ceres_files:\n",
    "    cmd2     = 'wget ' + file + ' &'        \n",
    "cmd_run2 = os.popen(cmd2)\n",
    "data_get = cmd_run2.read()"
   ]
  }
 ],
 "metadata": {
  "kernelspec": {
   "display_name": "Python 3",
   "language": "python",
   "name": "python3"
  },
  "language_info": {
   "codemirror_mode": {
    "name": "ipython",
    "version": 3
   },
   "file_extension": ".py",
   "mimetype": "text/x-python",
   "name": "python",
   "nbconvert_exporter": "python",
   "pygments_lexer": "ipython3",
   "version": "3.8.5"
  }
 },
 "nbformat": 4,
 "nbformat_minor": 4
}
